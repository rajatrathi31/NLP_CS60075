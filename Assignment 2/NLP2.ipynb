{
  "nbformat": 4,
  "nbformat_minor": 0,
  "metadata": {
    "colab": {
      "provenance": [],
      "collapsed_sections": []
    },
    "kernelspec": {
      "name": "python3",
      "display_name": "Python 3"
    },
    "language_info": {
      "name": "python"
    },
    "accelerator": "GPU",
    "gpuClass": "standard"
  },
  "cells": [
    {
      "cell_type": "markdown",
      "source": [
        "Name: Rajat Rathi\n",
        "\n",
        "Roll No.: 19IE10041\n",
        "\n",
        "## Assignment 2: Sentiment Classification\n"
      ],
      "metadata": {
        "id": "13b84ct4jCdH"
      }
    },
    {
      "cell_type": "code",
      "source": [
        "from google.colab import drive\n",
        "drive.mount('/content/drive')"
      ],
      "metadata": {
        "colab": {
          "base_uri": "https://localhost:8080/"
        },
        "id": "_RgBPecJC-Ha",
        "outputId": "d59145bc-ac46-45de-fbda-de0fb62e3d37"
      },
      "execution_count": 13,
      "outputs": [
        {
          "output_type": "stream",
          "name": "stdout",
          "text": [
            "Mounted at /content/drive\n"
          ]
        }
      ]
    },
    {
      "cell_type": "code",
      "execution_count": 14,
      "metadata": {
        "id": "zz2Xjg6XaNJZ",
        "colab": {
          "base_uri": "https://localhost:8080/"
        },
        "outputId": "e4f97135-a894-4fc5-e635-2e639ed68861"
      },
      "outputs": [
        {
          "output_type": "stream",
          "name": "stdout",
          "text": [
            "Looking in indexes: https://pypi.org/simple, https://us-python.pkg.dev/colab-wheels/public/simple/\n",
            "Requirement already satisfied: contractions in /usr/local/lib/python3.7/dist-packages (0.1.72)\n",
            "Requirement already satisfied: textsearch>=0.0.21 in /usr/local/lib/python3.7/dist-packages (from contractions) (0.0.24)\n",
            "Requirement already satisfied: pyahocorasick in /usr/local/lib/python3.7/dist-packages (from textsearch>=0.0.21->contractions) (1.4.4)\n",
            "Requirement already satisfied: anyascii in /usr/local/lib/python3.7/dist-packages (from textsearch>=0.0.21->contractions) (0.3.1)\n"
          ]
        }
      ],
      "source": [
        "import pickle\n",
        "import regex as re\n",
        "import numpy as np\n",
        "import pandas as pd\n",
        "!pip install contractions\n",
        "import contractions\n",
        "from nltk.corpus import stopwords"
      ]
    },
    {
      "cell_type": "code",
      "source": [
        "import nltk\n",
        "nltk.download('stopwords')"
      ],
      "metadata": {
        "colab": {
          "base_uri": "https://localhost:8080/"
        },
        "id": "gYVHM6O4taBo",
        "outputId": "988316d2-c6c7-4764-fd8e-0a04b4affb27"
      },
      "execution_count": 15,
      "outputs": [
        {
          "output_type": "stream",
          "name": "stderr",
          "text": [
            "[nltk_data] Downloading package stopwords to /root/nltk_data...\n",
            "[nltk_data]   Package stopwords is already up-to-date!\n"
          ]
        },
        {
          "output_type": "execute_result",
          "data": {
            "text/plain": [
              "True"
            ]
          },
          "metadata": {},
          "execution_count": 15
        }
      ]
    },
    {
      "cell_type": "code",
      "source": [
        "from sklearn.model_selection import train_test_split\n",
        "from gensim.models import Word2Vec\n",
        "from tensorflow.keras.preprocessing.text import Tokenizer\n",
        "from tensorflow.keras.preprocessing.sequence import pad_sequences\n",
        "from tensorflow.keras import Sequential\n",
        "from tensorflow.keras.layers import Bidirectional, GlobalMaxPool1D, Dense, LSTM, Conv1D, Embedding\n",
        "import keras.backend as K\n",
        "from sklearn.metrics import classification_report\n",
        "import tensorflow\n",
        "from tensorflow import keras"
      ],
      "metadata": {
        "id": "0dgekqIQnbA2"
      },
      "execution_count": 16,
      "outputs": []
    },
    {
      "cell_type": "markdown",
      "source": [
        "### Declaring constants"
      ],
      "metadata": {
        "id": "KbUwvdiLoZ3c"
      }
    },
    {
      "cell_type": "code",
      "source": [
        "input_length = 200\n",
        "vocab_length = 103040\n",
        "Embedding_dimensions = 100"
      ],
      "metadata": {
        "id": "IO9_V2akoPbN"
      },
      "execution_count": 17,
      "outputs": []
    },
    {
      "cell_type": "markdown",
      "source": [
        "### Files Path"
      ],
      "metadata": {
        "id": "LWYaJRp77NaD"
      }
    },
    {
      "cell_type": "code",
      "source": [
        "ImdbDatasetPath = \"/content/drive/MyDrive/MyModel/IMDB Dataset.csv\"\n",
        "ModelPath = '/content/drive/MyDrive/MyModel'\n",
        "TokenizerPath = \"/content/drive/MyDrive/MyModel/MyTokenizer2.obj\""
      ],
      "metadata": {
        "id": "bPkzyrUF7RB8"
      },
      "execution_count": 18,
      "outputs": []
    },
    {
      "cell_type": "code",
      "source": [
        "DATASET_COLUMNS = [\"review\", \"sentiment\"]\n",
        "DATASET_ENCODING = \"ISO-8859-1\"\n",
        "dataset = pd.read_csv(ImdbDatasetPath, encoding=DATASET_ENCODING, names=DATASET_COLUMNS)\n",
        "dataset = dataset.iloc[1:,:]\n",
        "dataset.head()"
      ],
      "metadata": {
        "colab": {
          "base_uri": "https://localhost:8080/",
          "height": 206
        },
        "id": "6YCMti4Nac0a",
        "outputId": "464c578c-eb4d-48b5-b189-046f0a49c086"
      },
      "execution_count": 20,
      "outputs": [
        {
          "output_type": "execute_result",
          "data": {
            "text/plain": [
              "                                              review sentiment\n",
              "1  One of the other reviewers has mentioned that ...  positive\n",
              "2  A wonderful little production. <br /><br />The...  positive\n",
              "3  I thought this was a wonderful way to spend ti...  positive\n",
              "4  Basically there's a family where a little boy ...  negative\n",
              "5  Petter Mattei's \"Love in the Time of Money\" is...  positive"
            ],
            "text/html": [
              "\n",
              "  <div id=\"df-2f1d767d-2558-4521-8398-8faa3ae88aa0\">\n",
              "    <div class=\"colab-df-container\">\n",
              "      <div>\n",
              "<style scoped>\n",
              "    .dataframe tbody tr th:only-of-type {\n",
              "        vertical-align: middle;\n",
              "    }\n",
              "\n",
              "    .dataframe tbody tr th {\n",
              "        vertical-align: top;\n",
              "    }\n",
              "\n",
              "    .dataframe thead th {\n",
              "        text-align: right;\n",
              "    }\n",
              "</style>\n",
              "<table border=\"1\" class=\"dataframe\">\n",
              "  <thead>\n",
              "    <tr style=\"text-align: right;\">\n",
              "      <th></th>\n",
              "      <th>review</th>\n",
              "      <th>sentiment</th>\n",
              "    </tr>\n",
              "  </thead>\n",
              "  <tbody>\n",
              "    <tr>\n",
              "      <th>1</th>\n",
              "      <td>One of the other reviewers has mentioned that ...</td>\n",
              "      <td>positive</td>\n",
              "    </tr>\n",
              "    <tr>\n",
              "      <th>2</th>\n",
              "      <td>A wonderful little production. &lt;br /&gt;&lt;br /&gt;The...</td>\n",
              "      <td>positive</td>\n",
              "    </tr>\n",
              "    <tr>\n",
              "      <th>3</th>\n",
              "      <td>I thought this was a wonderful way to spend ti...</td>\n",
              "      <td>positive</td>\n",
              "    </tr>\n",
              "    <tr>\n",
              "      <th>4</th>\n",
              "      <td>Basically there's a family where a little boy ...</td>\n",
              "      <td>negative</td>\n",
              "    </tr>\n",
              "    <tr>\n",
              "      <th>5</th>\n",
              "      <td>Petter Mattei's \"Love in the Time of Money\" is...</td>\n",
              "      <td>positive</td>\n",
              "    </tr>\n",
              "  </tbody>\n",
              "</table>\n",
              "</div>\n",
              "      <button class=\"colab-df-convert\" onclick=\"convertToInteractive('df-2f1d767d-2558-4521-8398-8faa3ae88aa0')\"\n",
              "              title=\"Convert this dataframe to an interactive table.\"\n",
              "              style=\"display:none;\">\n",
              "        \n",
              "  <svg xmlns=\"http://www.w3.org/2000/svg\" height=\"24px\"viewBox=\"0 0 24 24\"\n",
              "       width=\"24px\">\n",
              "    <path d=\"M0 0h24v24H0V0z\" fill=\"none\"/>\n",
              "    <path d=\"M18.56 5.44l.94 2.06.94-2.06 2.06-.94-2.06-.94-.94-2.06-.94 2.06-2.06.94zm-11 1L8.5 8.5l.94-2.06 2.06-.94-2.06-.94L8.5 2.5l-.94 2.06-2.06.94zm10 10l.94 2.06.94-2.06 2.06-.94-2.06-.94-.94-2.06-.94 2.06-2.06.94z\"/><path d=\"M17.41 7.96l-1.37-1.37c-.4-.4-.92-.59-1.43-.59-.52 0-1.04.2-1.43.59L10.3 9.45l-7.72 7.72c-.78.78-.78 2.05 0 2.83L4 21.41c.39.39.9.59 1.41.59.51 0 1.02-.2 1.41-.59l7.78-7.78 2.81-2.81c.8-.78.8-2.07 0-2.86zM5.41 20L4 18.59l7.72-7.72 1.47 1.35L5.41 20z\"/>\n",
              "  </svg>\n",
              "      </button>\n",
              "      \n",
              "  <style>\n",
              "    .colab-df-container {\n",
              "      display:flex;\n",
              "      flex-wrap:wrap;\n",
              "      gap: 12px;\n",
              "    }\n",
              "\n",
              "    .colab-df-convert {\n",
              "      background-color: #E8F0FE;\n",
              "      border: none;\n",
              "      border-radius: 50%;\n",
              "      cursor: pointer;\n",
              "      display: none;\n",
              "      fill: #1967D2;\n",
              "      height: 32px;\n",
              "      padding: 0 0 0 0;\n",
              "      width: 32px;\n",
              "    }\n",
              "\n",
              "    .colab-df-convert:hover {\n",
              "      background-color: #E2EBFA;\n",
              "      box-shadow: 0px 1px 2px rgba(60, 64, 67, 0.3), 0px 1px 3px 1px rgba(60, 64, 67, 0.15);\n",
              "      fill: #174EA6;\n",
              "    }\n",
              "\n",
              "    [theme=dark] .colab-df-convert {\n",
              "      background-color: #3B4455;\n",
              "      fill: #D2E3FC;\n",
              "    }\n",
              "\n",
              "    [theme=dark] .colab-df-convert:hover {\n",
              "      background-color: #434B5C;\n",
              "      box-shadow: 0px 1px 3px 1px rgba(0, 0, 0, 0.15);\n",
              "      filter: drop-shadow(0px 1px 2px rgba(0, 0, 0, 0.3));\n",
              "      fill: #FFFFFF;\n",
              "    }\n",
              "  </style>\n",
              "\n",
              "      <script>\n",
              "        const buttonEl =\n",
              "          document.querySelector('#df-2f1d767d-2558-4521-8398-8faa3ae88aa0 button.colab-df-convert');\n",
              "        buttonEl.style.display =\n",
              "          google.colab.kernel.accessAllowed ? 'block' : 'none';\n",
              "\n",
              "        async function convertToInteractive(key) {\n",
              "          const element = document.querySelector('#df-2f1d767d-2558-4521-8398-8faa3ae88aa0');\n",
              "          const dataTable =\n",
              "            await google.colab.kernel.invokeFunction('convertToInteractive',\n",
              "                                                     [key], {});\n",
              "          if (!dataTable) return;\n",
              "\n",
              "          const docLinkHtml = 'Like what you see? Visit the ' +\n",
              "            '<a target=\"_blank\" href=https://colab.research.google.com/notebooks/data_table.ipynb>data table notebook</a>'\n",
              "            + ' to learn more about interactive tables.';\n",
              "          element.innerHTML = '';\n",
              "          dataTable['output_type'] = 'display_data';\n",
              "          await google.colab.output.renderOutput(dataTable, element);\n",
              "          const docLink = document.createElement('div');\n",
              "          docLink.innerHTML = docLinkHtml;\n",
              "          element.appendChild(docLink);\n",
              "        }\n",
              "      </script>\n",
              "    </div>\n",
              "  </div>\n",
              "  "
            ]
          },
          "metadata": {},
          "execution_count": 20
        }
      ]
    },
    {
      "cell_type": "markdown",
      "source": [
        "### Replace sentiments with numbers "
      ],
      "metadata": {
        "id": "fE5HaJsIj1sH"
      }
    },
    {
      "cell_type": "code",
      "source": [
        "dataset['sentiment'] = dataset['sentiment'].replace('positive', 1)\n",
        "dataset['sentiment'] = dataset['sentiment'].replace('negative', 0)"
      ],
      "metadata": {
        "id": "WAAVQ_Yg_fJb"
      },
      "execution_count": 21,
      "outputs": []
    },
    {
      "cell_type": "markdown",
      "source": [
        "### Preprocess Input"
      ],
      "metadata": {
        "id": "kgiWOtRQj8jI"
      }
    },
    {
      "cell_type": "code",
      "source": [
        "def preprocess_apply(review):\n",
        "    review = review.lower()\n",
        "\n",
        "    # replace <br /> (break) character with a white space\n",
        "    review = re.sub(r'<br />', ' ', review)\n",
        "\n",
        "    # replace punctuations with a white space and other symbols\n",
        "    review = re.sub(r'[^\\w\\s]', ' ', review)\n",
        "\n",
        "    # expand contractions\n",
        "    review = contractions.fix(review)\n",
        "\n",
        "    # replace multiple white spaces with a single white space\n",
        "    review = re.sub(r'\\s+', ' ', review)\n",
        "\n",
        "    word_list = []\n",
        "    stop_words = set(stopwords.words('english')) \n",
        "    for word in review.lower().split():\n",
        "        if word not in stop_words and word != '':\n",
        "            word_list.append(word)\n",
        "    review = ' '.join(word_list)\n",
        "\n",
        "    return review"
      ],
      "metadata": {
        "id": "EB1naQhaD18J"
      },
      "execution_count": 22,
      "outputs": []
    },
    {
      "cell_type": "code",
      "source": [
        "dataset['processed_review'] = dataset.review.apply(preprocess_apply)"
      ],
      "metadata": {
        "id": "nQnYDlFFdYU0"
      },
      "execution_count": 23,
      "outputs": []
    },
    {
      "cell_type": "markdown",
      "source": [
        "### Train-Valid-Test dataset split"
      ],
      "metadata": {
        "id": "yZC6OZ3IkH8W"
      }
    },
    {
      "cell_type": "code",
      "source": [
        "X_data = np.array(dataset['processed_review'])\n",
        "y_data = np.array(dataset['sentiment'])\n",
        "\n",
        "X_train, X_rem, y_train, y_rem = train_test_split(X_data, y_data, train_size = 0.8)\n",
        "X_dev, X_test, y_dev, y_test = train_test_split(X_rem, y_rem, test_size = 0.5)"
      ],
      "metadata": {
        "id": "AhDFKqgNeek6"
      },
      "execution_count": 24,
      "outputs": []
    },
    {
      "cell_type": "markdown",
      "source": [
        "### Preparing data for word2vec"
      ],
      "metadata": {
        "id": "nRTU58bKotz6"
      }
    },
    {
      "cell_type": "code",
      "source": [
        "Word2vec_train_data = list(map(lambda x: x.split(), X_train))"
      ],
      "metadata": {
        "id": "7CNgo9GoDcew"
      },
      "execution_count": 25,
      "outputs": []
    },
    {
      "cell_type": "markdown",
      "source": [
        "### Word2Vec Model"
      ],
      "metadata": {
        "id": "IefCxqS5kS7U"
      }
    },
    {
      "cell_type": "code",
      "source": [
        "word2vec_model = Word2Vec(Word2vec_train_data, size=Embedding_dimensions, workers=8, min_count=10)"
      ],
      "metadata": {
        "id": "CmYO1JUYHLz5"
      },
      "execution_count": 26,
      "outputs": []
    },
    {
      "cell_type": "markdown",
      "source": [
        "### Tokenize"
      ],
      "metadata": {
        "id": "YqkMUNgtkXin"
      }
    },
    {
      "cell_type": "code",
      "source": [
        "tokenizer = Tokenizer(oov_token=\"<oov>\")\n",
        "tokenizer.fit_on_texts(X_train)\n",
        "tokenizer.num_words = vocab_length"
      ],
      "metadata": {
        "id": "Z9zSDw2PObEn"
      },
      "execution_count": 27,
      "outputs": []
    },
    {
      "cell_type": "markdown",
      "source": [
        "### Padding Sequences"
      ],
      "metadata": {
        "id": "3STutd_DkaW9"
      }
    },
    {
      "cell_type": "code",
      "source": [
        "X_train = pad_sequences(tokenizer.texts_to_sequences(X_train), maxlen=input_length)\n",
        "X_dev = pad_sequences(tokenizer.texts_to_sequences(X_dev), maxlen=input_length)\n",
        "X_test = pad_sequences(tokenizer.texts_to_sequences(X_test), maxlen=input_length)"
      ],
      "metadata": {
        "id": "-1Wl_61VQrgb"
      },
      "execution_count": 28,
      "outputs": []
    },
    {
      "cell_type": "markdown",
      "source": [
        "### Embedding Matrix Weights"
      ],
      "metadata": {
        "id": "PpOQpSDGkiKA"
      }
    },
    {
      "cell_type": "code",
      "source": [
        "embedding_matrix = np.zeros((vocab_length, Embedding_dimensions))\n",
        "\n",
        "for word, token in tokenizer.word_index.items():\n",
        "    # print(word, token)\n",
        "    if word2vec_model.wv.__contains__(word):\n",
        "        embedding_matrix[token] = word2vec_model.wv.__getitem__(word)"
      ],
      "metadata": {
        "id": "bNp5A9ZxS10S"
      },
      "execution_count": 29,
      "outputs": []
    },
    {
      "cell_type": "code",
      "source": [
        "# print(X_train[0], X_train[0].shape)"
      ],
      "metadata": {
        "id": "cQ8sH2xK4xxW"
      },
      "execution_count": 30,
      "outputs": []
    },
    {
      "cell_type": "markdown",
      "source": [
        "### Bi-Lstm Model"
      ],
      "metadata": {
        "id": "lw_ouuLGkyuI"
      }
    },
    {
      "cell_type": "code",
      "source": [
        "def getModel():\n",
        "    embedding_layer = Embedding(input_dim = vocab_length,\n",
        "                                output_dim = Embedding_dimensions,\n",
        "                                weights=[embedding_matrix],\n",
        "                                input_length=input_length,\n",
        "                                trainable=False)\n",
        "\n",
        "    model = Sequential([\n",
        "        embedding_layer,\n",
        "        Bidirectional(LSTM(512, dropout=0.3, return_sequences=True)),\n",
        "        Conv1D(200, 1, activation='relu'),\n",
        "        GlobalMaxPool1D(),\n",
        "        Dense(25, activation='relu'),\n",
        "        Dense(1, activation='sigmoid'),\n",
        "    ],\n",
        "    name=\"Sentiment_Model\")\n",
        "    return model"
      ],
      "metadata": {
        "id": "jI-gzFwCwd2_"
      },
      "execution_count": 31,
      "outputs": []
    },
    {
      "cell_type": "code",
      "source": [
        "training_model = getModel()\n",
        "training_model.summary()"
      ],
      "metadata": {
        "colab": {
          "base_uri": "https://localhost:8080/"
        },
        "id": "I6AUXHVh5qbj",
        "outputId": "5dbb4d66-abca-4821-8ea3-1247bf4f9202"
      },
      "execution_count": 32,
      "outputs": [
        {
          "output_type": "stream",
          "name": "stdout",
          "text": [
            "Model: \"Sentiment_Model\"\n",
            "_________________________________________________________________\n",
            " Layer (type)                Output Shape              Param #   \n",
            "=================================================================\n",
            " embedding (Embedding)       (None, 200, 100)          10304000  \n",
            "                                                                 \n",
            " bidirectional (Bidirectiona  (None, 200, 1024)        2510848   \n",
            " l)                                                              \n",
            "                                                                 \n",
            " conv1d (Conv1D)             (None, 200, 200)          205000    \n",
            "                                                                 \n",
            " global_max_pooling1d (Globa  (None, 200)              0         \n",
            " lMaxPooling1D)                                                  \n",
            "                                                                 \n",
            " dense (Dense)               (None, 25)                5025      \n",
            "                                                                 \n",
            " dense_1 (Dense)             (None, 1)                 26        \n",
            "                                                                 \n",
            "=================================================================\n",
            "Total params: 13,024,899\n",
            "Trainable params: 2,720,899\n",
            "Non-trainable params: 10,304,000\n",
            "_________________________________________________________________\n"
          ]
        }
      ]
    },
    {
      "cell_type": "code",
      "source": [
        "# from tensorflow.keras.callbacks import ReduceLROnPlateau, EarlyStopping\n",
        "# callbacks = [ReduceLROnPlateau(monitor='val_loss', patience=5, cooldown=0),\n",
        "#              EarlyStopping(monitor='val_accuracy', min_delta=1e-4, patience=5)]"
      ],
      "metadata": {
        "id": "jQnq3Xd36ZKZ"
      },
      "execution_count": 33,
      "outputs": []
    },
    {
      "cell_type": "markdown",
      "source": [
        "### F1 Score Calculator method"
      ],
      "metadata": {
        "id": "QhTVf56uk4Rr"
      }
    },
    {
      "cell_type": "code",
      "source": [
        "def f1_metric(y_true, y_pred):\n",
        "    true_positives = K.sum(K.round(K.clip(y_true * y_pred, 0, 1)))\n",
        "    possible_positives = K.sum(K.round(K.clip(y_true, 0, 1)))\n",
        "    predicted_positives = K.sum(K.round(K.clip(y_pred, 0, 1)))\n",
        "    precision = true_positives / (predicted_positives + K.epsilon())\n",
        "    recall = true_positives / (possible_positives + K.epsilon())\n",
        "    f1_val = 2*(precision*recall)/(precision+recall+K.epsilon())\n",
        "    return f1_val"
      ],
      "metadata": {
        "id": "uvDAdrV9I-JZ"
      },
      "execution_count": 34,
      "outputs": []
    },
    {
      "cell_type": "code",
      "source": [
        "training_model.compile(loss='binary_crossentropy', optimizer='adam', metrics=['accuracy', f1_metric])"
      ],
      "metadata": {
        "id": "KiIN__iR7J5C"
      },
      "execution_count": 35,
      "outputs": []
    },
    {
      "cell_type": "code",
      "source": [
        "# print(X_train.shape)"
      ],
      "metadata": {
        "id": "aRm2Jsdj5idC"
      },
      "execution_count": 36,
      "outputs": []
    },
    {
      "cell_type": "markdown",
      "source": [
        "### Train the model"
      ],
      "metadata": {
        "id": "v7p-8EPEk_dQ"
      }
    },
    {
      "cell_type": "code",
      "source": [
        "history = training_model.fit(\n",
        "    X_train, y_train,\n",
        "    batch_size=256,\n",
        "    epochs=12,\n",
        "    verbose=1,\n",
        ")"
      ],
      "metadata": {
        "colab": {
          "base_uri": "https://localhost:8080/"
        },
        "id": "Xc5AlMsA9Uqx",
        "outputId": "fbfb7adc-0e0d-44a6-d22c-8f1271c75453"
      },
      "execution_count": 37,
      "outputs": [
        {
          "output_type": "stream",
          "name": "stdout",
          "text": [
            "Epoch 1/12\n",
            "157/157 [==============================] - 58s 266ms/step - loss: 0.3475 - accuracy: 0.8419 - f1_metric: 0.8385\n",
            "Epoch 2/12\n",
            "157/157 [==============================] - 44s 279ms/step - loss: 0.2761 - accuracy: 0.8835 - f1_metric: 0.8835\n",
            "Epoch 3/12\n",
            "157/157 [==============================] - 46s 290ms/step - loss: 0.2521 - accuracy: 0.8948 - f1_metric: 0.8949\n",
            "Epoch 4/12\n",
            "157/157 [==============================] - 45s 285ms/step - loss: 0.2309 - accuracy: 0.9041 - f1_metric: 0.9041\n",
            "Epoch 5/12\n",
            "157/157 [==============================] - 45s 288ms/step - loss: 0.2090 - accuracy: 0.9143 - f1_metric: 0.9139\n",
            "Epoch 6/12\n",
            "157/157 [==============================] - 45s 286ms/step - loss: 0.1925 - accuracy: 0.9220 - f1_metric: 0.9219\n",
            "Epoch 7/12\n",
            "157/157 [==============================] - 45s 287ms/step - loss: 0.1633 - accuracy: 0.9363 - f1_metric: 0.9364\n",
            "Epoch 8/12\n",
            "157/157 [==============================] - 45s 287ms/step - loss: 0.1405 - accuracy: 0.9456 - f1_metric: 0.9454\n",
            "Epoch 9/12\n",
            "157/157 [==============================] - 45s 288ms/step - loss: 0.1199 - accuracy: 0.9532 - f1_metric: 0.9533\n",
            "Epoch 10/12\n",
            "157/157 [==============================] - 45s 287ms/step - loss: 0.0916 - accuracy: 0.9647 - f1_metric: 0.9648\n",
            "Epoch 11/12\n",
            "157/157 [==============================] - 45s 287ms/step - loss: 0.0739 - accuracy: 0.9721 - f1_metric: 0.9722\n",
            "Epoch 12/12\n",
            "157/157 [==============================] - 45s 287ms/step - loss: 0.0645 - accuracy: 0.9758 - f1_metric: 0.9758\n"
          ]
        }
      ]
    },
    {
      "cell_type": "code",
      "source": [
        "# import seaborn as sns\n",
        "# from wordcloud import WordCloud\n",
        "# import matplotlib.pyplot as plt\n",
        "\n",
        "# acc = history.history['accuracy']\n",
        "# loss = history.history['loss']\n",
        "# epochs = range(len(acc))\n",
        "\n",
        "# plt.plot(epochs, acc, 'b', label='Training acc')\n",
        "# # plt.plot(epochs, val_acc, 'r', label='Validation acc')\n",
        "# plt.title('Training and validation accuracy')\n",
        "# plt.legend()\n",
        "\n",
        "# plt.figure()\n",
        "\n",
        "# plt.plot(epochs, loss, 'b', label='Training loss')\n",
        "# # plt.plot(epochs, val_loss, 'r', label='Validation loss')\n",
        "# plt.title('Training and validation loss')\n",
        "# plt.legend()\n",
        "\n",
        "# plt.show()"
      ],
      "metadata": {
        "id": "t3eVriCIgMPK"
      },
      "execution_count": 38,
      "outputs": []
    },
    {
      "cell_type": "code",
      "source": [
        "def get_accuracy(y_test, y_pred):\n",
        "    cnt = 0\n",
        "    sz = len(y_test)\n",
        "    for i in range(sz):\n",
        "        if y_pred[i] == y_test[i]:\n",
        "            cnt = cnt + 1\n",
        "    return cnt/sz"
      ],
      "metadata": {
        "id": "AqmuUHpsQYn1"
      },
      "execution_count": 39,
      "outputs": []
    },
    {
      "cell_type": "markdown",
      "source": [
        "### Accuracy and F1-Score on 'dev' dataset"
      ],
      "metadata": {
        "id": "AUYG25JZlEHB"
      }
    },
    {
      "cell_type": "code",
      "source": [
        "y_pred = training_model.predict(X_dev)\n",
        "y_pred = np.where(y_pred>=0.5, 1, 0)\n",
        "\n",
        "print(\"The accuracy of validation dataset is:\", get_accuracy(y_dev, y_pred)*100, \"%\")\n",
        "print(\"The f1_score of validation dataset is:\",classification_report(y_dev, y_pred, output_dict=True)['macro avg']['f1-score'])"
      ],
      "metadata": {
        "colab": {
          "base_uri": "https://localhost:8080/"
        },
        "id": "3nIU06QGhzYp",
        "outputId": "d3a2fb21-14be-4c52-c336-46badd948273"
      },
      "execution_count": 40,
      "outputs": [
        {
          "output_type": "stream",
          "name": "stdout",
          "text": [
            "The accuracy of validation dataset is: 89.56 %\n",
            "The f1_score of validation dataset is: 0.895495646132402\n"
          ]
        }
      ]
    },
    {
      "cell_type": "markdown",
      "source": [
        "### Saving Model on Google Drive"
      ],
      "metadata": {
        "id": "pk1OX1eJlLjY"
      }
    },
    {
      "cell_type": "code",
      "source": [
        "# Saving the model in MyModel.obj file\n",
        "# filehandler = open(\"/content/drive/MyDrive/MyModel/MyModel2.obj\",\"wb\")\n",
        "# pickle.dump(training_model, filehandler)\n",
        "# filehandler.close()\n",
        "training_model.save(ModelPath)\n",
        "print(\"The model has been saved\")"
      ],
      "metadata": {
        "colab": {
          "base_uri": "https://localhost:8080/"
        },
        "id": "GIycA-FgkcgP",
        "outputId": "2c312595-652e-4212-8c4a-68ad19926afe"
      },
      "execution_count": 41,
      "outputs": [
        {
          "output_type": "stream",
          "name": "stderr",
          "text": [
            "WARNING:absl:Found untraced functions such as lstm_cell_1_layer_call_fn, lstm_cell_1_layer_call_and_return_conditional_losses, lstm_cell_2_layer_call_fn, lstm_cell_2_layer_call_and_return_conditional_losses while saving (showing 4 of 4). These functions will not be directly callable after loading.\n",
            "WARNING:absl:<keras.layers.recurrent.LSTMCell object at 0x7fb22c29ef90> has the same name 'LSTMCell' as a built-in Keras object. Consider renaming <class 'keras.layers.recurrent.LSTMCell'> to avoid naming conflicts when loading with `tf.keras.models.load_model`. If renaming is not possible, pass the object in the `custom_objects` parameter of the load function.\n",
            "WARNING:absl:<keras.layers.recurrent.LSTMCell object at 0x7fb23fdf8c50> has the same name 'LSTMCell' as a built-in Keras object. Consider renaming <class 'keras.layers.recurrent.LSTMCell'> to avoid naming conflicts when loading with `tf.keras.models.load_model`. If renaming is not possible, pass the object in the `custom_objects` parameter of the load function.\n"
          ]
        },
        {
          "output_type": "stream",
          "name": "stdout",
          "text": [
            "The model has been saved\n"
          ]
        }
      ]
    },
    {
      "cell_type": "markdown",
      "source": [
        "### Saving Tokenizer on Google Drive"
      ],
      "metadata": {
        "id": "NFTVMkvFlPxP"
      }
    },
    {
      "cell_type": "code",
      "source": [
        "# Saving the tokenizer in MyTokenizer.obj file\n",
        "filehandler = open(TokenizerPath, \"wb\")\n",
        "pickle.dump(tokenizer, filehandler)\n",
        "filehandler.close()\n",
        "\n",
        "print(\"The tokenizer has been saved in MyTokenizer2.obj file\")"
      ],
      "metadata": {
        "colab": {
          "base_uri": "https://localhost:8080/"
        },
        "id": "fGkzo787ls4z",
        "outputId": "46c4be77-9aab-4ba3-f133-0704dce7e346"
      },
      "execution_count": 42,
      "outputs": [
        {
          "output_type": "stream",
          "name": "stdout",
          "text": [
            "The tokenizer has been saved in MyTokenizer2.obj file\n"
          ]
        }
      ]
    },
    {
      "cell_type": "markdown",
      "source": [
        "### Loading Model and Tokenizer from Google Drive\n",
        "> To test on 'test' dataset\n",
        "\n"
      ],
      "metadata": {
        "id": "9SL2bREolUOa"
      }
    },
    {
      "cell_type": "code",
      "source": [
        "# file = open(\"/content/drive/MyDrive/MyModel/MyModel2.obj\",'rb')\n",
        "# loaded_model = pickle.load(file)\n",
        "# file.close()\n",
        "loaded_model = keras.models.load_model(ModelPath, custom_objects = {'f1_metric':f1_metric})\n",
        "print(loaded_model.summary())\n",
        "\n",
        "file = open(TokenizerPath,'rb')\n",
        "loadedtokenizer = pickle.load(file)\n",
        "file.close()"
      ],
      "metadata": {
        "colab": {
          "base_uri": "https://localhost:8080/"
        },
        "id": "MEX9WUignKlh",
        "outputId": "cbdd1ca9-a8d5-49ab-bd88-e4874a62907e"
      },
      "execution_count": 43,
      "outputs": [
        {
          "output_type": "stream",
          "name": "stdout",
          "text": [
            "Model: \"Sentiment_Model\"\n",
            "_________________________________________________________________\n",
            " Layer (type)                Output Shape              Param #   \n",
            "=================================================================\n",
            " embedding (Embedding)       (None, 200, 100)          10304000  \n",
            "                                                                 \n",
            " bidirectional (Bidirectiona  (None, 200, 1024)        2510848   \n",
            " l)                                                              \n",
            "                                                                 \n",
            " conv1d (Conv1D)             (None, 200, 200)          205000    \n",
            "                                                                 \n",
            " global_max_pooling1d (Globa  (None, 200)              0         \n",
            " lMaxPooling1D)                                                  \n",
            "                                                                 \n",
            " dense (Dense)               (None, 25)                5025      \n",
            "                                                                 \n",
            " dense_1 (Dense)             (None, 1)                 26        \n",
            "                                                                 \n",
            "=================================================================\n",
            "Total params: 13,024,899\n",
            "Trainable params: 2,720,899\n",
            "Non-trainable params: 10,304,000\n",
            "_________________________________________________________________\n",
            "None\n"
          ]
        }
      ]
    },
    {
      "cell_type": "code",
      "source": [
        "y_pred = loaded_model.predict(X_test)\n",
        "y_pred = np.where(y_pred>=0.5, 1, 0)\n",
        "\n",
        "print(\"The accuracy of testing dataset is:\", get_accuracy(y_test, y_pred)*100, \"%\")\n",
        "print(\"The f1_score of testing dataset is:\",classification_report(y_test, y_pred, output_dict=True)['macro avg']['f1-score'])"
      ],
      "metadata": {
        "colab": {
          "base_uri": "https://localhost:8080/"
        },
        "id": "NHa3sNQ6nnw_",
        "outputId": "41694b52-fa5e-4849-8b00-00f4029b9f8e"
      },
      "execution_count": 44,
      "outputs": [
        {
          "output_type": "stream",
          "name": "stdout",
          "text": [
            "The accuracy of testing dataset is: 89.56 %\n",
            "The f1_score of testing dataset is: 0.8955818061739078\n"
          ]
        }
      ]
    },
    {
      "cell_type": "markdown",
      "source": [
        "# The model gave an accuracy of 89% and F1-Score of 0.89 on test dataset"
      ],
      "metadata": {
        "id": "4JVsS5jRlgXy"
      }
    }
  ]
}